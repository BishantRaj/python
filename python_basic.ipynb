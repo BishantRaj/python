{
  "nbformat": 4,
  "nbformat_minor": 0,
  "metadata": {
    "colab": {
      "provenance": [],
      "toc_visible": true,
      "authorship_tag": "ABX9TyPRE5BI/YaxeRGlnIFkOMF0",
      "include_colab_link": true
    },
    "kernelspec": {
      "name": "python3",
      "display_name": "Python 3"
    },
    "language_info": {
      "name": "python"
    }
  },
  "cells": [
    {
      "cell_type": "markdown",
      "metadata": {
        "id": "view-in-github",
        "colab_type": "text"
      },
      "source": [
        "<a href=\"https://colab.research.google.com/github/BishantRaj/python/blob/main/python_basic.ipynb\" target=\"_parent\"><img src=\"https://colab.research.google.com/assets/colab-badge.svg\" alt=\"Open In Colab\"/></a>"
      ]
    },
    {
      "cell_type": "code",
      "source": [
        "x = 1    # int\n",
        "y = 2.8  # float\n",
        "z = 1j   # complex\n",
        "\n",
        "#convert from int to float:\n",
        "a = float(x)\n",
        "\n",
        "#convert from float to int:\n",
        "b = int(y)\n",
        "\n",
        "#convert from int to complex:\n",
        "c = complex(x)\n",
        "\n",
        "print(a)\n",
        "print(b)\n",
        "print(c)\n",
        "print(3,(4))\n",
        "\n",
        "print(type(a))\n",
        "print(type(b))\n",
        "print(type(c))"
      ],
      "metadata": {
        "colab": {
          "base_uri": "https://localhost:8080/"
        },
        "id": "EPwcUzqbcpAX",
        "outputId": "3a246329-509b-487d-f616-23e175d5de4e"
      },
      "execution_count": null,
      "outputs": [
        {
          "output_type": "stream",
          "name": "stdout",
          "text": [
            "1.0\n",
            "2\n",
            "(1+0j)\n",
            "3 4\n",
            "<class 'float'>\n",
            "<class 'int'>\n",
            "<class 'complex'>\n"
          ]
        }
      ]
    },
    {
      "cell_type": "code",
      "source": [
        "import random\n",
        "print(random.randrange(2,5))"
      ],
      "metadata": {
        "colab": {
          "base_uri": "https://localhost:8080/"
        },
        "id": "7L6vsepLhjl7",
        "outputId": "0ff2b21e-d8b7-4c8f-a1b1-10ddd646ffc0"
      },
      "execution_count": null,
      "outputs": [
        {
          "output_type": "stream",
          "name": "stdout",
          "text": [
            "4\n"
          ]
        }
      ]
    },
    {
      "cell_type": "code",
      "source": [
        "#typecast\n",
        "x = int(1)   # x will be 1\n",
        "y = int(2.8) # y will be 2\n",
        "z = int(\"3\") # z will be 3\n",
        "print(type(x))\n",
        "print(type(y))\n",
        "print(type(z))\n",
        "x = float(1)     # x will be 1.0\n",
        "y = float(2.8)   # y will be 2.8\n",
        "z = float(\"3\")   # z will be 3.0\n",
        "print(type(x))\n",
        "print(type(y))\n",
        "print(type(z))\n",
        "x = str(\"s1\") # x will be 's1'\n",
        "y = str(2)    # y will be '2'\n",
        "z = str(3.0)  # z will be '3.0'\n",
        "print(type(x))\n",
        "print(type(y))\n",
        "print(type(z))"
      ],
      "metadata": {
        "colab": {
          "base_uri": "https://localhost:8080/"
        },
        "id": "plU0MiZliWPg",
        "outputId": "a746e68d-4359-46a7-f6fc-b03510c0312c"
      },
      "execution_count": null,
      "outputs": [
        {
          "output_type": "stream",
          "name": "stdout",
          "text": [
            "<class 'int'>\n",
            "<class 'int'>\n",
            "<class 'int'>\n",
            "<class 'float'>\n",
            "<class 'float'>\n",
            "<class 'float'>\n",
            "<class 'str'>\n",
            "<class 'str'>\n",
            "<class 'str'>\n"
          ]
        }
      ]
    },
    {
      "cell_type": "code",
      "source": [
        "#string"
      ],
      "metadata": {
        "id": "KUl0_1rYhmwS"
      },
      "execution_count": null,
      "outputs": []
    },
    {
      "cell_type": "code",
      "source": [
        "a = \"Hello\"\n",
        "print(a)\n",
        "\n",
        "#multiline\n",
        "a = \"\"\"Lorem ipsum dolor sit amet,\n",
        "consectetur adipiscing elit.\"\"\"\n",
        "print(a)\n",
        "#or\n",
        "a = '''labore et dolore magna aliqua.'''\n",
        "print(a)\n",
        "\n",
        "#strings in Python are arrays of bytes representing unicode characters.\n",
        "#However, Python does not have a character data type, a single character is simply a string with a length of 1.\n",
        "#Square brackets can be used to access elements of the string\n",
        "\n",
        "a = \"Hello, World!\"\n",
        "print(a[1])"
      ],
      "metadata": {
        "colab": {
          "base_uri": "https://localhost:8080/"
        },
        "id": "UqwgXlfKjI7j",
        "outputId": "7d74068e-fbde-47ce-e729-cbdc195279a4"
      },
      "execution_count": null,
      "outputs": [
        {
          "output_type": "stream",
          "name": "stdout",
          "text": [
            "Hello\n",
            "Lorem ipsum dolor sit amet,\n",
            "consectetur adipiscing elit.\n",
            "labore et dolore magna aliqua.\n",
            "e\n"
          ]
        }
      ]
    },
    {
      "cell_type": "code",
      "source": [
        "#apply method on string\n",
        "#Looping Through a String\n",
        "for x in \"banana\":\n",
        "  print(x)\n",
        "\n",
        "#String Length\n",
        "a = \"Hello, World!\"\n",
        "print(len(a))\n",
        "\n",
        "#Check String\n",
        "txt = \"The best things in life are free!\"\n",
        "print(\"free\" in txt)\n",
        "\n",
        "#Check if NOT\n",
        "txt = \"The best things in life are free!\"\n",
        "print(\"expensive\" not in txt)\n",
        "print(\"st\" not in txt)\n",
        "\n",
        "txt = \"The best things in life are free!\"\n",
        "if \"free\" in txt:\n",
        "  print(\"Yes, 'free' is present.\")"
      ],
      "metadata": {
        "colab": {
          "base_uri": "https://localhost:8080/"
        },
        "id": "eexsaauIjJci",
        "outputId": "0a4fe005-695d-4033-a991-e43ef5d4502e"
      },
      "execution_count": null,
      "outputs": [
        {
          "output_type": "stream",
          "name": "stdout",
          "text": [
            "b\n",
            "a\n",
            "n\n",
            "a\n",
            "n\n",
            "a\n",
            "13\n",
            "True\n",
            "True\n",
            "False\n",
            "Yes, 'free' is present.\n"
          ]
        }
      ]
    },
    {
      "cell_type": "code",
      "source": [
        "#Slicing Strings\n",
        "b = \"Hello, World!\"\n",
        "print(b[2:6])\n",
        "\n",
        "#from start\n",
        "b = \"Hello, World!\"\n",
        "print(b[:5])\n",
        "\n",
        "#To the End\n",
        "b = \"Hello, World!\"\n",
        "print(b[2:])\n",
        "\n",
        "#Negative Indexing\n",
        "#Use negative indexes to start the slice from the end of the string:\n",
        "b = \"Hello, World!\"\n",
        "print(b[-5:-2])"
      ],
      "metadata": {
        "colab": {
          "base_uri": "https://localhost:8080/"
        },
        "id": "X6I6kim4kJuM",
        "outputId": "f9ba3bfd-8b0b-4eae-d44c-23d9e0e75a79"
      },
      "execution_count": null,
      "outputs": [
        {
          "output_type": "stream",
          "name": "stdout",
          "text": [
            "llo,\n",
            "Hello\n",
            "llo, World!\n",
            "orl\n"
          ]
        }
      ]
    },
    {
      "cell_type": "code",
      "source": [
        "#sring method\n",
        "a = \"Hello, World!\"\n",
        "print(a.upper())\n",
        "print(a.lower())\n",
        "print(a.strip()) #Remove Whitespace\n",
        "print(a.replace(\"H\", \"J\")) #Replace String\n",
        "b=a.split(\",\")\n",
        "print(b)\n",
        "print(type(b))"
      ],
      "metadata": {
        "colab": {
          "base_uri": "https://localhost:8080/"
        },
        "id": "rX5lhtMSlHiF",
        "outputId": "e3c5b9dc-8c72-45ae-e9fd-0a4b4e635a7b"
      },
      "execution_count": null,
      "outputs": [
        {
          "output_type": "stream",
          "name": "stdout",
          "text": [
            "HELLO, WORLD!\n",
            "hello, world!\n",
            "Hello, World!\n",
            "Jello, World!\n",
            "['Hello', ' World!']\n",
            "<class 'list'>\n"
          ]
        }
      ]
    },
    {
      "cell_type": "code",
      "source": [
        "#String Concatenation\n",
        "a = \"Hello\"\n",
        "b = \"World\"\n",
        "\n",
        "c = a + b\n",
        "print(c)\n",
        "\n",
        "c = a + \" \" + b\n",
        "print(c)\n",
        "\n",
        "age = 36\n",
        "#txt = \"My name is John, I am \" + age   error\n",
        "txt = \"My name is John, and I am {}\"\n",
        "print(txt.format(age))\n",
        "\n",
        "quantity = 3\n",
        "itemno = 567\n",
        "price = 49.95\n",
        "myorder = \"I want {} pieces of item {} for {} dollars.\"\n",
        "print(myorder.format(quantity, itemno, price))\n",
        "\n",
        "myorder = \"I want to pay {2} dollars for {0} pieces of item {1}.\" #index\n",
        "print(myorder.format(quantity, itemno, price))\n",
        "\n",
        "\n",
        "print(\"We are the so-called \\\"Vikings\\\" from the north.\")\n",
        "\n",
        "print(\"abc\"+a+\"def\")\n",
        "\n",
        "print(\"abc\\ndef\")"
      ],
      "metadata": {
        "colab": {
          "base_uri": "https://localhost:8080/"
        },
        "id": "voFyLc8OoVj4",
        "outputId": "da385b43-832d-45f5-d869-80c3a39907e8"
      },
      "execution_count": null,
      "outputs": [
        {
          "output_type": "stream",
          "name": "stdout",
          "text": [
            "HelloWorld\n",
            "Hello World\n",
            "My name is John, and I am 36\n",
            "I want 3 pieces of item 567 for 49.95 dollars.\n",
            "I want to pay 49.95 dollars for 3 pieces of item 567.\n",
            "We are the so-called \"Vikings\" from the north.\n",
            "abcHellodef\n",
            "abc\n",
            "def\n"
          ]
        }
      ]
    },
    {
      "cell_type": "code",
      "source": [
        "print(bool(\"Hello\"))\n",
        "print(bool(15))\n",
        "print(bool([\"apple\", \"cherry\", \"banana\"]))\n",
        "print(bool(\"\"))\n",
        "print(bool(0))\n",
        "print(bool([]))"
      ],
      "metadata": {
        "colab": {
          "base_uri": "https://localhost:8080/"
        },
        "id": "kOd5WB4nqGgy",
        "outputId": "a8b7e5c6-362c-47d8-ff3e-de98c67ab626"
      },
      "execution_count": null,
      "outputs": [
        {
          "output_type": "stream",
          "name": "stdout",
          "text": [
            "True\n",
            "True\n",
            "True\n",
            "False\n",
            "False\n",
            "False\n"
          ]
        }
      ]
    },
    {
      "cell_type": "code",
      "source": [
        "print(4>>1)\n",
        "x = 4\n",
        "x >>= 1\n",
        "print(x)\n",
        "\n",
        "print(4<<1)\n",
        "x = 4\n",
        "x <<= 1\n",
        "print(x)\n",
        "x=10\n",
        "print(x > 3 and x < 10)\n",
        "print(x > 3 & x < 10)\n",
        "print(x > 3 or x < 10)\n",
        "print(x > 3 | x < 10)\n",
        "print(not(x > 3 and x < 10))\n",
        "print(not(x > 3 or x < 10))\n",
        "\n",
        "print(~(5))"
      ],
      "metadata": {
        "colab": {
          "base_uri": "https://localhost:8080/"
        },
        "id": "g7vprbTqx4xY",
        "outputId": "0de1ea6c-c38f-4d65-b10b-c6b3a96be73e"
      },
      "execution_count": null,
      "outputs": [
        {
          "output_type": "stream",
          "name": "stdout",
          "text": [
            "2\n",
            "2\n",
            "8\n",
            "8\n",
            "False\n",
            "True\n",
            "True\n",
            "False\n",
            "True\n",
            "False\n",
            "-6\n"
          ]
        }
      ]
    },
    {
      "cell_type": "code",
      "source": [
        "x=5\n",
        "x += 3\n",
        "print(x)\n",
        "\n",
        "x -= 3\n",
        "print(x)\n",
        "\n",
        "x *= 3\n",
        "print(x)\n",
        "\n",
        "x+=2\n",
        "x /= 3 #division with decimal\n",
        "print(x)\n",
        "\n",
        "\n",
        "\n",
        "x //= 3 # floor division round\n",
        "print(x)\n",
        "\n",
        "x %= 3\n",
        "print(x)"
      ],
      "metadata": {
        "colab": {
          "base_uri": "https://localhost:8080/"
        },
        "id": "0iHt4IcLxuz0",
        "outputId": "1eb1612e-db95-4fa2-a538-d4890aa0a0e0"
      },
      "execution_count": null,
      "outputs": [
        {
          "output_type": "stream",
          "name": "stdout",
          "text": [
            "8\n",
            "5\n",
            "15\n",
            "5.666666666666667\n",
            "1.0\n",
            "1.0\n"
          ]
        }
      ]
    },
    {
      "cell_type": "code",
      "source": [
        "#LIST\n",
        "thislist = [\"apple\", \"banana\", \"cherry\", \"apple\", \"cherry\",\"orange\", \"kiwi\", \"melon\", \"mango\"]\n",
        "print(thislist)\n",
        "print(len(thislist))\n",
        "\n",
        "#A list can contain different data types\n",
        "mylist = [\"abc\", 34, True, 40, \"male\"]\n",
        "\n",
        "print(type(mylist))\n",
        "\n",
        "#It is also possible to use the list() constructor when creating a new list.\n",
        "thislist = list((\"apple\", \"banana\", \"cherry\")) # note the double round-brackets\n",
        "print(thislist)\n",
        "\n",
        "thislist = [\"apple\", \"banana\", \"cherry\", \"apple\", \"cherry\",\"orange\", \"kiwi\", \"melon\", \"mango\"]\n",
        "print(thislist[1])\n",
        "\n",
        "#-1 refers to the last item, -2 refers to the second last item etc.\n",
        "print(thislist[-1])\n",
        "\n",
        "print(thislist[1:4])\n",
        "print(thislist[:4])\n",
        "print(thislist[4:])\n",
        "\n",
        "print(thislist[-4:-1])\n",
        "\n",
        "\n",
        "#check\n",
        "if \"apple\" in thislist:\n",
        "  print(\"Yes, 'apple' is in the fruits list\")\n",
        "\n"
      ],
      "metadata": {
        "id": "vulIC-OMrR_4"
      },
      "execution_count": null,
      "outputs": []
    },
    {
      "cell_type": "code",
      "source": [
        "thislist = [\"apple\", \"banana\", \"cherry\", \"apple\", \"cherry\",\"orange\", \"kiwi\", \"melon\", \"mango\"]\n",
        "print(thislist)\n",
        "#change list\n",
        "thislist[1] = \"blackcurrant\"\n",
        "print(thislist)\n",
        "\n",
        "thislist[1:6] = [\"blackcurrant\", \"watermelon\"]\n",
        "print(thislist)\n",
        "\n",
        "tlist = [\"apple\", \"banana\", \"cherry\"]\n",
        "tlist[0:1] = [\"blackcurrant\", \"watermelon\",\"guava\"]\n",
        "print(tlist)\n",
        "\n",
        "tlist[1:3] = [\"watermelon\"]\n",
        "print(tlist)\n",
        "\n",
        "thislist.insert(2, \"banana\")\n",
        "print(thislist) #without replace\n",
        "\n",
        "thislist.append(\"orange\")\n",
        "print(thislist)"
      ],
      "metadata": {
        "colab": {
          "base_uri": "https://localhost:8080/"
        },
        "id": "sRXpD_7ZtJYv",
        "outputId": "bc7094a3-8ba5-43b9-dca2-f5e116afe1c6"
      },
      "execution_count": null,
      "outputs": [
        {
          "output_type": "stream",
          "name": "stdout",
          "text": [
            "['apple', 'banana', 'cherry', 'apple', 'cherry', 'orange', 'kiwi', 'melon', 'mango']\n",
            "['apple', 'blackcurrant', 'cherry', 'apple', 'cherry', 'orange', 'kiwi', 'melon', 'mango']\n",
            "['apple', 'blackcurrant', 'watermelon', 'kiwi', 'melon', 'mango']\n",
            "['blackcurrant', 'watermelon', 'guava', 'banana', 'cherry']\n",
            "['blackcurrant', 'watermelon', 'banana', 'cherry']\n",
            "['apple', 'blackcurrant', 'banana', 'watermelon', 'kiwi', 'melon', 'mango']\n",
            "['apple', 'blackcurrant', 'banana', 'watermelon', 'kiwi', 'melon', 'mango', 'orange']\n"
          ]
        }
      ]
    },
    {
      "cell_type": "code",
      "source": [
        "thislist = [\"apple\", \"banana\", \"cherry\"]\n",
        "tropical = [\"mango\", \"pineapple\", \"papaya\"]\n",
        "thislist.extend(tropical)\n",
        "print(thislist)\n",
        "\n",
        "thislist = [\"apple\", \"banana\", \"cherry\"]\n",
        "thistuple = (\"kiwi\", \"orange\")\n",
        "thislist.extend(thistuple)\n",
        "print(thislist)"
      ],
      "metadata": {
        "colab": {
          "base_uri": "https://localhost:8080/"
        },
        "id": "VSA7-bFQ6dKQ",
        "outputId": "18575f8d-029d-498c-ea0d-edcf8fc75835"
      },
      "execution_count": null,
      "outputs": [
        {
          "output_type": "stream",
          "name": "stdout",
          "text": [
            "['apple', 'banana', 'cherry', 'mango', 'pineapple', 'papaya']\n",
            "['apple', 'banana', 'cherry', 'kiwi', 'orange']\n"
          ]
        }
      ]
    },
    {
      "cell_type": "code",
      "source": [
        "#delete in list\n",
        "thislist = ['apple', 'banana', 'cherry', 'apple', 'cherry', 'orange', 'kiwi', 'melon', 'mango']\n",
        "thislist.remove(\"banana\")\n",
        "print(thislist)\n",
        "#remove first occurence\n",
        "\n",
        "thislist.pop(1)\n",
        "print(thislist)\n",
        "\n",
        "thislist.pop()\n",
        "print(thislist)\n",
        "\n",
        "del thislist[0]\n",
        "print(thislist)\n",
        "\n",
        "thislist.clear()\n",
        "print(thislist)\n",
        "\n",
        "del thislist #complete del\n",
        "print(thislist) #error"
      ],
      "metadata": {
        "id": "XoJ4ln-Z774R"
      },
      "execution_count": null,
      "outputs": []
    },
    {
      "cell_type": "code",
      "source": [
        "thislist = [\"apple\", \"banana\", \"cherry\"]\n",
        "for i in range(len(thislist)):\n",
        "  print(thislist[i], end =\" \")\n",
        "print()\n",
        "\n",
        "i = 0\n",
        "while i < len(thislist):\n",
        "  print(thislist[i], end =\" \"),\n",
        "  i = i + 1\n",
        "print()\n",
        "\n"
      ],
      "metadata": {
        "colab": {
          "base_uri": "https://localhost:8080/"
        },
        "id": "KqG_iCD98wEK",
        "outputId": "e11bbde8-72c0-4b96-dad6-5474d3bc6418"
      },
      "execution_count": null,
      "outputs": [
        {
          "output_type": "stream",
          "name": "stdout",
          "text": [
            "apple banana cherry \n",
            "apple banana cherry \n",
            "apple\n",
            "banana\n",
            "cherry\n"
          ]
        },
        {
          "output_type": "execute_result",
          "data": {
            "text/plain": [
              "[None, None, None]"
            ]
          },
          "metadata": {},
          "execution_count": 39
        }
      ]
    },
    {
      "cell_type": "code",
      "source": [
        "#List Comprehension\n",
        "fruits = [\"apple\", \"banana\", \"cherry\", \"kiwi\", \"mango\"]\n",
        "[print(x) for x in fruits]\n",
        "\n",
        "newlist = []\n",
        "\n",
        "for x in fruits:\n",
        "  if \"a\" in x: #add only those element which has a letter in it\n",
        "    newlist.append(x)\n",
        "print(newlist)\n",
        "\n",
        "\n",
        "newlist = [x for x in fruits if \"a\" in x]\n",
        "print(newlist)"
      ],
      "metadata": {
        "colab": {
          "base_uri": "https://localhost:8080/"
        },
        "id": "SjpwigH391fc",
        "outputId": "24649848-c6b1-4293-ba0a-404f2fe9ef58"
      },
      "execution_count": null,
      "outputs": [
        {
          "output_type": "stream",
          "name": "stdout",
          "text": [
            "apple\n",
            "banana\n",
            "cherry\n",
            "kiwi\n",
            "mango\n",
            "['apple', 'banana', 'mango']\n",
            "['apple', 'banana', 'mango']\n"
          ]
        }
      ]
    },
    {
      "cell_type": "code",
      "source": [
        "#sorting\n",
        "thislist = [\"orange\", \"mango\", \"kiwi\", \"pineapple\", \"banana\"]\n",
        "thislist.sort()\n",
        "print(thislist)\n",
        "\n",
        "thislist = [100, 50, 65, 82, 23]\n",
        "thislist.sort()\n",
        "print(thislist)\n",
        "\n",
        "\n",
        "thislist = [\"orange\", \"Mango\", \"kiwi\", \"pineapple\", \"banana\"]\n",
        "thislist.sort(reverse = True)\n",
        "print(thislist)\n",
        "\n",
        "#By default the sort() method is case sensitive, resulting in all capital letters being sorted before lower case letters:\n",
        "#to overcome\n",
        "thislist = [\"banana\", \"Orange\", \"Kiwi\", \"cherry\"]\n",
        "thislist.sort(key = str.lower)\n",
        "print(thislist)\n",
        "\n",
        "#The reverse() method reverses the current sorting order of the elements.\n",
        "thislist = [\"banana\", \"Orange\", \"Kiwi\", \"cherry\"]\n",
        "thislist.reverse()\n",
        "print(thislist)\n",
        "\n",
        "\n",
        "#Sort the list based on how close the number is to 50:\n",
        "\n",
        "def myfunc(n):\n",
        "  return abs(n - 50)\n",
        "\n",
        "thislist = [100, 50, 65, 82, 23]\n",
        "thislist.sort(key = myfunc)\n",
        "print(thislist)"
      ],
      "metadata": {
        "colab": {
          "base_uri": "https://localhost:8080/"
        },
        "id": "UhP7DGx-_Y66",
        "outputId": "7080fac8-f3db-4544-8c3e-901d5f5ec697"
      },
      "execution_count": null,
      "outputs": [
        {
          "output_type": "stream",
          "name": "stdout",
          "text": [
            "['banana', 'kiwi', 'mango', 'orange', 'pineapple']\n",
            "[23, 50, 65, 82, 100]\n",
            "['pineapple', 'orange', 'kiwi', 'banana', 'Mango']\n",
            "['banana', 'cherry', 'Kiwi', 'Orange']\n",
            "['cherry', 'Kiwi', 'Orange', 'banana']\n",
            "[50, 65, 23, 82, 100]\n"
          ]
        }
      ]
    },
    {
      "cell_type": "code",
      "source": [
        "#You cannot copy a list simply by typing list2 = list1, because: list2 will only be a reference to list1, and changes made in list1 will automatically also be made in list2.\n",
        "thislist = [\"apple\", \"banana\", \"cherry\"]\n",
        "mylist = thislist.copy()\n",
        "print(mylist)\n",
        "\n",
        "#or\n",
        "\n",
        "thislist = [\"apple\", \"banana\", \"cherry\"]\n",
        "mylist = list(thislist)\n",
        "print(mylist)\n",
        "\n",
        "\n",
        "#join list\n",
        "list1 = [\"a\", \"b\", \"c\"]\n",
        "list2 = [1, 2, 3]\n",
        "\n",
        "list3 = list1 + list2\n",
        "print(list3)\n",
        "\n",
        "list1.extend(list2)\n",
        "print(list1)"
      ],
      "metadata": {
        "id": "XDMfCe_LAJpH"
      },
      "execution_count": null,
      "outputs": []
    },
    {
      "cell_type": "code",
      "source": [
        "#Tuples\n",
        "#A tuple is a collection which is  ordered, unchangeable, and allow duplicate values.\n",
        "#we cannot change, add or remove items after the tuple has been created.\n",
        "thistuple = (\"apple\", \"banana\", \"cherry\")\n",
        "print(thistuple)\n",
        "\n",
        "#To create a tuple with only one item, you have to add a comma after the item, otherwise Python will not recognize it as a tuple.\n",
        "thistuple = (\"apple\",)\n",
        "print(type(thistuple))\n",
        "\n",
        "tuple1 = (\"abc\", 34, True, 40, \"male\")\n",
        "print(type(tuple1))\n",
        "\n",
        "\n",
        "thistuple = tuple((\"apple\", \"banana\", \"cherry\")) # note the double round-brackets\n",
        "print(thistuple)"
      ],
      "metadata": {
        "colab": {
          "base_uri": "https://localhost:8080/"
        },
        "id": "HqXZ2rJoAi1K",
        "outputId": "46b0fc47-3a8b-4cd2-84e1-41f7f3110f5a"
      },
      "execution_count": null,
      "outputs": [
        {
          "output_type": "stream",
          "name": "stdout",
          "text": [
            "('apple', 'banana', 'cherry')\n",
            "<class 'tuple'>\n",
            "<class 'tuple'>\n",
            "('apple', 'banana', 'cherry')\n"
          ]
        }
      ]
    },
    {
      "cell_type": "code",
      "source": [
        "#access same as list\n",
        "#You can convert the tuple into a list, change the list, and convert the list back into a tuple.\n",
        "x = (\"apple\", \"banana\", \"cherry\")\n",
        "y = list(x)\n",
        "y[1] = \"kiwi\"\n",
        "x = tuple(y)\n",
        "\n",
        "print(x)"
      ],
      "metadata": {
        "id": "WpsdaYwRBMdN"
      },
      "execution_count": null,
      "outputs": []
    },
    {
      "cell_type": "code",
      "source": [
        "fruits = (\"apple\", \"banana\", \"cherry\")\n",
        "\n",
        "(green, yellow, red) = fruits\n",
        "\n",
        "print(green)\n",
        "print(yellow)\n",
        "print(red)\n",
        "\n",
        "#If the number of variables is less than the number of values, you can add an * to the variable name and the values will be assigned to the variable as a list:\n",
        "fruits = (\"apple\", \"mango\", \"papaya\", \"pineapple\", \"cherry\")\n",
        "\n",
        "(green, *tropic, red) = fruits\n",
        "\n",
        "print(green)\n",
        "print(tropic)\n",
        "print(red)\n",
        "\n",
        "\n",
        "fruits = (\"apple\", \"banana\", \"cherry\")\n",
        "mytuple = fruits * 2\n",
        "\n",
        "print(mytuple)"
      ],
      "metadata": {
        "colab": {
          "base_uri": "https://localhost:8080/"
        },
        "id": "kOamt2HdBPMW",
        "outputId": "75de93ee-a624-4bf7-8c7b-f6c718071673"
      },
      "execution_count": null,
      "outputs": [
        {
          "output_type": "stream",
          "name": "stdout",
          "text": [
            "apple\n",
            "banana\n",
            "cherry\n",
            "apple\n",
            "['mango', 'papaya', 'pineapple']\n",
            "cherry\n",
            "('apple', 'banana', 'cherry', 'apple', 'banana', 'cherry')\n"
          ]
        }
      ]
    },
    {
      "cell_type": "code",
      "source": [
        "#SET\n",
        "#Set items are unordered, unchangeable, and do not allow duplicate values.\n",
        "#Once a set is created, you cannot change its items, but you can remove items and add new items.\n",
        "\n",
        "thisset = {\"apple\", \"banana\", \"cherry\", \"apple\"}\n",
        "print(thisset)\n",
        "\n",
        "#The values True and 1 are considered the same value in sets, and are treated as duplicates:\n",
        "thisset = {\"apple\", \"banana\", \"cherry\", True, 1, 2}\n",
        "print(thisset)\n",
        "\n",
        "\n",
        "for x in thisset:\n",
        "  print(x,end=\" \")\n",
        "print()\n",
        "print(\"banana\" in thisset)\n",
        "\n",
        "thisset.add(\"orange\")\n",
        "print(thisset)\n",
        "\n",
        "\n",
        "tropical = {\"pineapple\", \"mango\", \"papaya\"}\n",
        "thisset.update(tropical)\n",
        "print(thisset)\n",
        "#The object in the update() method does not have to be a set, it can be any iterable object (tuples, lists, dictionaries etc.).\n",
        "\n",
        "\n",
        "thisset.remove(\"banana\")\n",
        "print(thisset)\n",
        "# If the item to remove does not exist, remove() will raise an error.\n",
        "\n",
        "thisset.discard(\"banana\")\n",
        "print(thisset)\n",
        "#If the item to remove does not exist, discard() will NOT raise an error.\n",
        "\n",
        "x = thisset.pop()\n",
        "print(x)\n",
        "print(thisset)\n",
        "\n",
        "thisset.clear()\n",
        "del thisset"
      ],
      "metadata": {
        "colab": {
          "base_uri": "https://localhost:8080/"
        },
        "id": "eMKiWUANf757",
        "outputId": "6227f8f1-99a4-4b4d-90af-dd285582356d"
      },
      "execution_count": null,
      "outputs": [
        {
          "output_type": "stream",
          "name": "stdout",
          "text": [
            "{'cherry', 'banana', 'apple'}\n",
            "{'cherry', 2, True, 'apple', 'banana'}\n",
            "cherry 2 True apple banana \n",
            "True\n",
            "{'cherry', 2, True, 'apple', 'orange', 'banana'}\n",
            "{'papaya', 'cherry', 2, True, 'apple', 'pineapple', 'orange', 'banana', 'mango'}\n",
            "{'papaya', 'cherry', 2, True, 'apple', 'pineapple', 'orange', 'mango'}\n",
            "{'papaya', 'cherry', 2, True, 'apple', 'pineapple', 'orange', 'mango'}\n",
            "papaya\n",
            "{'cherry', 2, True, 'apple', 'pineapple', 'orange', 'mango'}\n"
          ]
        }
      ]
    },
    {
      "cell_type": "code",
      "source": [
        "set1 = {\"a\", \"b\" , \"c\"}\n",
        "set2 = {1, 2, 3}\n",
        "set3 = set1.union(set2)\n",
        "print(set3)\n",
        "\n",
        "set1.update(set2)\n",
        "print(set1)\n",
        "\n",
        "#The intersection_update() method will keep only the items that are present in both sets.\n",
        "x = {\"apple\", \"banana\", \"cherry\"}\n",
        "y = {\"google\", \"microsoft\", \"apple\"}\n",
        "\n",
        "x.intersection_update(y)\n",
        "print(x)\n",
        "\n",
        "z = x.intersection(y)\n",
        "print(z)\n",
        "\n",
        "#The symmetric_difference() method will return a new set, that contains only the elements that are NOT present in both sets.\n",
        "x = {\"apple\", \"banana\", \"cherry\"}\n",
        "y = {\"google\", \"microsoft\", \"apple\"}\n",
        "x.symmetric_difference_update(y)\n",
        "print(x)\n",
        "\n"
      ],
      "metadata": {
        "id": "miiYv2F6gNTu"
      },
      "execution_count": null,
      "outputs": []
    },
    {
      "cell_type": "code",
      "source": [
        "#Dictionary\n",
        "#Dictionaries are used to store data values in key:value pairs.\n",
        "#A dictionary is a collection which is ordered*, changeable and do not allow duplicates.\n",
        "\n",
        "thisdict = {\n",
        "  \"brand\": \"Ford\",\n",
        "  \"model\": \"Mustang\",\n",
        "  \"year\": 1964\n",
        "}\n",
        "print(thisdict)\n",
        "print(thisdict[\"brand\"])\n",
        "\n",
        "thisdict = {\n",
        "  \"brand\": \"Ford\",\n",
        "  \"model\": \"Mustang\",\n",
        "  \"year\": 1964,\n",
        "  \"year\": 2020\n",
        "}\n",
        "print(thisdict)\n",
        "\n",
        "print(len(thisdict))\n",
        "\n",
        "thisdict = dict(name = \"John\", age = 36, country = \"Norway\")\n",
        "print(thisdict)\n",
        "\n",
        "#access\n",
        "x = thisdict.get(\"model\")\n",
        "print(x)\n",
        "\n",
        "x = thisdict.keys()\n",
        "print(x)\n",
        "\n",
        "print(type(x))\n",
        "\n",
        "x = thisdict.values()\n",
        "print(x)\n",
        "print(type(x))\n",
        "\n",
        "if \"model\" in thisdict:\n",
        "  print(\"Yes, 'model' is one of the keys in the thisdict dictionary\")\n",
        "\n",
        "#change\n",
        "thisdict[\"year\"] = 2018\n",
        "\n",
        "thisdict.update({\"year\": 2020})\n",
        "\n",
        "#add\n",
        "thisdict[\"color\"] = \"red\"\n",
        "print(thisdict)\n",
        "\n",
        "thisdict.update({\"color\": \"red\"})\n",
        "\n",
        "#del\n",
        "thisdict.pop(\"model\")\n",
        "print(thisdict)\n",
        "\n",
        "thisdict.popitem()\n",
        "print(thisdict)  #popitem() method removes the last inserted item\n",
        "\n",
        "del thisdict[\"model\"]\n",
        "print(thisdict)\n",
        "thisdict.clear()\n",
        "print(thisdict)"
      ],
      "metadata": {
        "colab": {
          "base_uri": "https://localhost:8080/"
        },
        "id": "UV9PJEkjipsE",
        "outputId": "be31eb60-42bd-4b93-935d-ec06c29f5bf4"
      },
      "execution_count": null,
      "outputs": [
        {
          "output_type": "stream",
          "name": "stdout",
          "text": [
            "{'brand': 'Ford', 'model': 'Mustang', 'year': 1964}\n",
            "Ford\n",
            "{'brand': 'Ford', 'model': 'Mustang', 'year': 2020}\n",
            "3\n",
            "{'name': 'John', 'age': 36, 'country': 'Norway'}\n",
            "None\n",
            "dict_keys(['name', 'age', 'country'])\n",
            "<class 'dict_keys'>\n",
            "dict_values(['John', 36, 'Norway'])\n",
            "<class 'dict_values'>\n"
          ]
        }
      ]
    },
    {
      "cell_type": "code",
      "source": [
        "#loop in dict\n",
        "thisdict = {\n",
        "  \"brand\": \"Ford\",\n",
        "  \"model\": \"Mustang\",\n",
        "  \"year\": 1964\n",
        "}\n",
        "\n",
        "for x in thisdict:\n",
        "  print(x,end=\" \")\n",
        "print()\n",
        "\n",
        "\n",
        "for x in thisdict:\n",
        "  print(thisdict[x],end=\" \")\n",
        "print()\n",
        "\n",
        "for x in thisdict.values():\n",
        "  print(x,end=\" \")\n",
        "print()\n",
        "\n",
        "for x in thisdict.keys():\n",
        "  print(x,end=\" \")\n",
        "print()\n",
        "\n",
        "for x, y in thisdict.items():\n",
        "  print(x, y,end=\" \")\n",
        "print()\n",
        "\n",
        "mydict = thisdict.copy() #for copy\n",
        "\n"
      ],
      "metadata": {
        "colab": {
          "base_uri": "https://localhost:8080/"
        },
        "id": "zz8JdgeqqHKh",
        "outputId": "b2d26732-4985-449a-a83a-7bf623c1c11b"
      },
      "execution_count": null,
      "outputs": [
        {
          "output_type": "stream",
          "name": "stdout",
          "text": [
            "brand model year \n",
            "Ford Mustang 1964 \n",
            "Ford Mustang 1964 \n",
            "brand model year \n",
            "brand Ford model Mustang year 1964 \n"
          ]
        }
      ]
    },
    {
      "cell_type": "code",
      "source": [
        "#nested dict\n",
        "myfamily = {\n",
        "  \"child1\" : {\n",
        "    \"name\" : \"Emil\",\n",
        "    \"year\" : 2004\n",
        "  },\n",
        "  \"child2\" : {\n",
        "    \"name\" : \"Tobias\",\n",
        "    \"year\" : 2007\n",
        "  },\n",
        "  \"child3\" : {\n",
        "    \"name\" : \"Linus\",\n",
        "    \"year\" : 2011\n",
        "  }\n",
        "}\n",
        "print(myfamily[\"child2\"])\n",
        "\n",
        "print(myfamily[\"child2\"][\"name\"])"
      ],
      "metadata": {
        "colab": {
          "base_uri": "https://localhost:8080/"
        },
        "id": "hZU-sYXEiIhq",
        "outputId": "11f5e94d-05b8-4842-dbf7-da2b6207c747"
      },
      "execution_count": 3,
      "outputs": [
        {
          "output_type": "stream",
          "name": "stdout",
          "text": [
            "{'name': 'Tobias', 'year': 2007}\n",
            "Tobias\n"
          ]
        }
      ]
    },
    {
      "cell_type": "code",
      "source": [
        "#if else\n",
        "a = 200\n",
        "b = 33\n",
        "if b > a:\n",
        "  print(\"b is greater than a\")\n",
        "elif a == b:\n",
        "  print(\"a and b are equal\")\n",
        "else:\n",
        "  print(\"a is greater than b\")\n",
        "\n",
        "#short\n",
        "a = 2\n",
        "b = 330\n",
        "print(\"A\") if a > b else print(\"B\")\n",
        "\n",
        "a = 330\n",
        "b = 330\n",
        "print(\"A\") if a > b else print(\"=\") if a == b else print(\"B\")"
      ],
      "metadata": {
        "colab": {
          "base_uri": "https://localhost:8080/"
        },
        "id": "aSr_oFvLinGP",
        "outputId": "a87d3c10-7f1b-472b-eaab-3c34c86441ca"
      },
      "execution_count": 6,
      "outputs": [
        {
          "output_type": "stream",
          "name": "stdout",
          "text": [
            "a is greater than b\n",
            "B\n",
            "=\n"
          ]
        }
      ]
    },
    {
      "cell_type": "code",
      "source": [
        "#while loop\n",
        "i = 1\n",
        "while i < 6:\n",
        "  print(i)\n",
        "  i += 1\n",
        "else:\n",
        "  print(\"i is no longer less than 6\")\n",
        "\n",
        "#for loop\n",
        "for x in range(2, 6):\n",
        "  print(x)\n",
        "\n",
        "for x in range(2, 30, 3):\n",
        "  print(x)\n",
        "#Increment the sequence with 3 (default is 1):\n",
        "\n",
        "for x in range(6):\n",
        "  print(x)\n",
        "else:\n",
        "  print(\"Finally finished!\")\n",
        "\n",
        "#for loops cannot be empty, but if you for some reason have a for loop with no content, put in the pass statement to avoid getting an error.\n",
        "for x in [0, 1, 2]:\n",
        "  pass\n",
        "\n",
        ""
      ],
      "metadata": {
        "id": "PZHABJNWjHJ4"
      },
      "execution_count": null,
      "outputs": []
    },
    {
      "cell_type": "code",
      "source": [
        "#function\n",
        "#In Python a function is defined using the def keyword:\n",
        "def my_function(fname):\n",
        "  print(fname + \" Refsnes\")\n",
        "my_function(\"Emil\")\n",
        "\n",
        "\n",
        "#If the number of arguments is unknown, add a * before the parameter name:\n",
        "def my_function(*kids):\n",
        "  print(\"The youngest child is \" + kids[2])\n",
        "my_function(\"Emil\", \"Tobias\", \"Linus\")\n",
        "\n",
        "#If the number of keyword arguments is unknown, add a double ** before the parameter name:\n",
        "def my_function(**kid):\n",
        "  print(\"His name is \" +kid[\"fname\"]+\" \"+ kid[\"lname\"])\n",
        "\n",
        "my_function(fname = \"Tobias\", lname = \"Refsnes\")\n",
        "\n",
        "#Default Parameter Value\n",
        "def my_function(country = \"Norway\"):\n",
        "  print(\"I am from \" + country)\n",
        "my_function(\"India\")\n",
        "my_function()\n",
        "\n",
        "#if function definition with no content, put in the pass statement to avoid getting an error.\n",
        "def myfunction():\n",
        "  pass"
      ],
      "metadata": {
        "colab": {
          "base_uri": "https://localhost:8080/"
        },
        "id": "xYbgypcukROZ",
        "outputId": "14d692fb-979e-4119-b90f-2a63235a4d38"
      },
      "execution_count": 13,
      "outputs": [
        {
          "output_type": "stream",
          "name": "stdout",
          "text": [
            "Emil Refsnes\n",
            "The youngest child is Linus\n",
            "His name is Tobias Refsnes\n",
            "I am from Sweden\n",
            "I am from India\n",
            "I am from Norway\n",
            "I am from Brazil\n"
          ]
        }
      ]
    },
    {
      "cell_type": "code",
      "source": [
        "#LAMBDA\n",
        "#A lambda function can take any number of arguments, but can only have one expression.\n",
        "x = lambda a : a + 10\n",
        "print(x(5))\n",
        "\n",
        "x = lambda a, b : a * b\n",
        "print(x(5, 6))\n",
        "\n",
        "#funct*lambda\n",
        "def myfunc(n):\n",
        "  return lambda a : a * n\n",
        "print(myfunc(2))\n",
        "mydoubler = myfunc(2)\n",
        "print(mydoubler)\n",
        "print(mydoubler(11))"
      ],
      "metadata": {
        "colab": {
          "base_uri": "https://localhost:8080/"
        },
        "id": "qkq00g_rmBVU",
        "outputId": "802282f0-5fdf-48eb-93c6-69d9a6751840"
      },
      "execution_count": 17,
      "outputs": [
        {
          "output_type": "stream",
          "name": "stdout",
          "text": [
            "15\n",
            "30\n",
            "<function myfunc.<locals>.<lambda> at 0x7dd9c0ba4790>\n",
            "<function myfunc.<locals>.<lambda> at 0x7dd9c0ba4790>\n",
            "22\n"
          ]
        }
      ]
    },
    {
      "cell_type": "code",
      "source": [
        "#ARRAY\n",
        "cars = [\"Ford\", \"Volvo\", \"BMW\"]\n",
        "cars[0]\n",
        "\n",
        "cars[0] = \"Toyota\"\n",
        "\n",
        "x = len(cars)\n",
        "\n",
        "for x in cars:\n",
        "  print(x)\n",
        "\n",
        "cars.append(\"Honda\")\n",
        "print(cars)\n",
        "cars.pop(2)\n",
        "cars.remove(\"Volvo\")\n",
        "print(cars)\n",
        "\n",
        "print(cars.count(\"Toyota\"))\n",
        "print(cars.index(\"Toyota\"))\n",
        "\n",
        "\n",
        "cars.insert(1,\"PUNCH\")\n",
        "print(cars)\n",
        "\n",
        "cars.reverse()\n",
        "print(cars)\n",
        "cars.sort()\n",
        "print(cars)\n",
        "cars.insert(1,3)\n",
        "cars.sort() #error"
      ],
      "metadata": {
        "colab": {
          "base_uri": "https://localhost:8080/"
        },
        "id": "fjA7pVGwnT3_",
        "outputId": "a56949db-30cd-4d67-ead8-34875f737240"
      },
      "execution_count": 31,
      "outputs": [
        {
          "output_type": "stream",
          "name": "stdout",
          "text": [
            "Toyota\n",
            "Volvo\n",
            "BMW\n",
            "['Toyota', 'Volvo', 'BMW', 'Honda']\n",
            "['Toyota', 'Honda']\n",
            "1\n",
            "0\n",
            "['Toyota', 'PUNCH', 'Honda']\n",
            "['Honda', 'PUNCH', 'Toyota']\n",
            "['Honda', 'PUNCH', 'Toyota']\n"
          ]
        }
      ]
    },
    {
      "cell_type": "code",
      "source": [
        "#CLASS\n",
        "class c1:\n",
        "  def __init__(self,name,rank):\n",
        "    self.name=name\n",
        "    self.rank=rank\n",
        "\n",
        "  def p(self):\n",
        "    print(f\"name is {self.name} and rank is {self.rank}\")\n",
        "\n",
        "  def q(self):\n",
        "    print(\"name is \"+self.name)\n",
        "\n",
        "a=c1(\"abc\",3)\n",
        "a.p()\n",
        "a.q()\n",
        "a.age=15\n",
        "print(f\"{a.name} {a.rank} {a.age}\")"
      ],
      "metadata": {
        "colab": {
          "base_uri": "https://localhost:8080/"
        },
        "id": "3FvtxISU7pWt",
        "outputId": "81c8f26c-75df-4395-b2cb-e5b594565549"
      },
      "execution_count": 52,
      "outputs": [
        {
          "output_type": "stream",
          "name": "stdout",
          "text": [
            "name is abc and rank is 3\n",
            "name is abc\n",
            "abc 3 15\n"
          ]
        }
      ]
    },
    {
      "cell_type": "code",
      "source": [
        "#Single INHERITANCE\n",
        "\n",
        "class parent:\n",
        "  print(\"parent\")\n",
        "\n",
        "class child(parent):\n",
        "  print(\"child\")\n",
        "\n",
        "o=child()\n",
        "\n",
        "print(\"==============================================\")\n",
        "class Parent:\n",
        "    def func1(self):\n",
        "        print(\"This function is in parent class.\")\n",
        "class Child(Parent):\n",
        "    def func2(self):\n",
        "        print(\"This function is in child class.\")\n",
        "\n",
        "object = Child()\n",
        "object.func1()\n",
        "object.func2()"
      ],
      "metadata": {
        "colab": {
          "base_uri": "https://localhost:8080/"
        },
        "id": "dre3NMMivVs1",
        "outputId": "673e66fd-73d0-4d2a-a130-a516c7d5fd9d"
      },
      "execution_count": 18,
      "outputs": [
        {
          "output_type": "stream",
          "name": "stdout",
          "text": [
            "parent\n",
            "child\n",
            "==============================================\n",
            "This function is in parent class.\n",
            "This function is in child class.\n"
          ]
        }
      ]
    },
    {
      "cell_type": "code",
      "source": [
        "#multilevel INHERITANCE\n",
        "\n",
        "class grandparent:\n",
        "  print(\"G-parent\")\n",
        "\n",
        "class parent(grandparent):\n",
        "  print(\"parent\")\n",
        "\n",
        "class child(parent):\n",
        "  print(\"child\")\n",
        "\n",
        "o=child()\n",
        "\n",
        "print(\"==============================================\")\n",
        "\n",
        "\n",
        "class Grandfather:\n",
        "\n",
        "    def __init__(self, grandfathername):\n",
        "        self.grandfathername = grandfathername\n",
        "\n",
        "class Father(Grandfather):\n",
        "    def __init__(self, fathername, grandfathername):\n",
        "        self.fathername = fathername\n",
        "        Grandfather.__init__(self, grandfathername)\n",
        "\n",
        "class Son(Father):\n",
        "    def __init__(self, sonname, fathername, grandfathername):\n",
        "        self.sonname = sonname\n",
        "\n",
        "        Father.__init__(self, fathername, grandfathername)\n",
        "\n",
        "    def print_name(self):\n",
        "        print('Grandfather name :', self.grandfathername)\n",
        "        print(\"Father name :\", self.fathername)\n",
        "        print(\"Son name :\", self.sonname)\n",
        "\n",
        "s1 = Son('Prince', 'Rampal', 'Lal mani')\n",
        "print(s1.grandfathername)\n",
        "s1.print_name()"
      ],
      "metadata": {
        "colab": {
          "base_uri": "https://localhost:8080/"
        },
        "id": "GammpwxRw7jx",
        "outputId": "c793c725-32b5-4946-f5ad-66e6661e3c34"
      },
      "execution_count": 20,
      "outputs": [
        {
          "output_type": "stream",
          "name": "stdout",
          "text": [
            "G-parent\n",
            "parent\n",
            "child\n",
            "==============================================\n",
            "Lal mani\n",
            "Grandfather name : Lal mani\n",
            "Father name : Rampal\n",
            "Son name : Prince\n"
          ]
        }
      ]
    },
    {
      "cell_type": "code",
      "source": [
        "#multiple inheritance\n",
        "class parent1:\n",
        "  print(\"parent1\")\n",
        "\n",
        "class parent2(parent1):\n",
        "  print(\"parent2\")\n",
        "\n",
        "class parent3(parent1):\n",
        "  print(\"parent3\")\n",
        "\n",
        "class child(parent3,parent2):\n",
        "  print(\"child1\")\n",
        "o=child()\n",
        "\n",
        "\n",
        "print()\n",
        "class child2(parent2,parent3):\n",
        "  print(\"child2\")\n",
        "\n",
        "o=child2()\n",
        "\n",
        "print(\"==============================================\")\n",
        "\n",
        "class Mother:\n",
        "    mothername = \"\"\n",
        "\n",
        "    def mother(self):\n",
        "        print(self.mothername)\n",
        "class Father:\n",
        "    fathername = \"\"\n",
        "\n",
        "    def father(self):\n",
        "        print(self.fathername)\n",
        "\n",
        "class Son(Mother, Father):\n",
        "    def parents(self):\n",
        "        print(\"Father :\", self.fathername)\n",
        "        print(\"Mother :\", self.mothername)\n",
        "\n",
        "s1 = Son()\n",
        "s1.fathername = \"RAM\"\n",
        "s1.mothername = \"SITA\"\n",
        "s1.parents()"
      ],
      "metadata": {
        "colab": {
          "base_uri": "https://localhost:8080/"
        },
        "id": "846ZjVBQxjjE",
        "outputId": "02efb3be-9d12-4ab9-aead-ab6c83c2e0d2"
      },
      "execution_count": 19,
      "outputs": [
        {
          "output_type": "stream",
          "name": "stdout",
          "text": [
            "parent1\n",
            "parent2\n",
            "parent3\n",
            "child1\n",
            "\n",
            "child2\n",
            "==============================================\n",
            "Father : RAM\n",
            "Mother : SITA\n"
          ]
        }
      ]
    },
    {
      "cell_type": "code",
      "source": [
        "#hierarchial\n",
        "class parent:\n",
        "  print(\"parent\")\n",
        "\n",
        "class child(parent):\n",
        "  print(\"child\")\n",
        "\n",
        "class child2(parent):\n",
        "  print(\"child2\")\n",
        "o=child()\n",
        "ob=child2()\n",
        "\n",
        "print(\"==============================================\")\n",
        "\n",
        "class Parent:\n",
        "    def func1(self):\n",
        "        print(\"This function is in parent class.\")\n",
        "\n",
        "class Child1(Parent):\n",
        "    def func2(self):\n",
        "        print(\"This function is in child 1.\")\n",
        "\n",
        "class Child2(Parent):\n",
        "    def func3(self):\n",
        "        print(\"This function is in child 2.\")\n",
        "object1 = Child1()\n",
        "object2 = Child2()\n",
        "object1.func1()\n",
        "object1.func2()\n",
        "object2.func1()\n",
        "object2.func3()"
      ],
      "metadata": {
        "colab": {
          "base_uri": "https://localhost:8080/"
        },
        "id": "xJR2fCru2vAi",
        "outputId": "067c2f82-db1c-4873-e462-a53b505420d9"
      },
      "execution_count": 21,
      "outputs": [
        {
          "output_type": "stream",
          "name": "stdout",
          "text": [
            "parent\n",
            "child\n",
            "child2\n",
            "==============================================\n",
            "This function is in parent class.\n",
            "This function is in child 1.\n",
            "This function is in parent class.\n",
            "This function is in child 2.\n"
          ]
        }
      ]
    }
  ]
}